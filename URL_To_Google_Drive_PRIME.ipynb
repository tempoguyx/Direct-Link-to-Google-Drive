{
  "nbformat": 4,
  "nbformat_minor": 0,
  "metadata": {
    "colab": {
      "name": "URL To Google Drive.ipynb",
      "provenance": [],
      "include_colab_link": true
    },
    "kernelspec": {
      "name": "python3",
      "display_name": "Python 3"
    },
    "language_info": {
      "name": "python"
    }
  },
  "cells": [
    {
      "cell_type": "markdown",
      "metadata": {
        "id": "view-in-github",
        "colab_type": "text"
      },
      "source": [
        "<a href=\"https://colab.research.google.com/github/tempoguyx/Direct-Link-to-Google-Drive/blob/main/URL_To_Google_Drive_PRIME.ipynb\" target=\"_parent\"><img src=\"https://colab.research.google.com/assets/colab-badge.svg\" alt=\"Open In Colab\"/></a>"
      ]
    },
    {
      "cell_type": "markdown",
      "source": [
        "#**Direct Link To Google Drive**"
      ],
      "metadata": {
        "id": "gR-w17487feP"
      }
    },
    {
      "cell_type": "markdown",
      "source": [
        "**Connect your Google Drive Account:**"
      ],
      "metadata": {
        "id": "YtJIyGRn7p4b"
      }
    },
    {
      "cell_type": "code",
      "execution_count": null,
      "metadata": {
        "cellView": "form",
        "id": "pftRTL_27YEe",
        "outputId": "0ed4ff7d-f55c-4c87-a843-ea348c23a0b8",
        "colab": {
          "base_uri": "https://localhost:8080/"
        }
      },
      "outputs": [
        {
          "output_type": "stream",
          "name": "stdout",
          "text": [
            "Mounted at /gdrive\n"
          ]
        }
      ],
      "source": [
        "#@markdown <br><center><img src=\"https://upload.wikimedia.org/wikipedia/commons/thumb/d/da/Google_Drive_logo.png/600px-Google_Drive_logo.png\" height=\"50\" alt=\"Gdrive-logo' \"/></center>\n",
        "#@markdown <center><h3>Connect to Google Account</h3></center><br>\n",
        "MODE = \"MOUNT\" #@param [\"MOUNT\", \"UNMOUNT\"]\n",
        "#Mount your Gdrive! \n",
        "from google.colab import drive\n",
        "drive.mount._DEBUG = False\n",
        "if MODE == \"MOUNT\":\n",
        "  drive.mount('/gdrive', force_remount=True)\n",
        "elif MODE == \"UNMOUNT\":\n",
        "  try:\n",
        "    drive.flush_and_unmount()\n",
        "  except ValueError:\n",
        "    pass\n",
        "  get_ipython().system_raw(\"rm -rf /root/.config/Google/DriveFS\")"
      ]
    },
    {
      "cell_type": "markdown",
      "source": [
        "**Google Colab Reconnector! Run this Code to prevent TIMEOUT in Google Colab.Before running any code run this!**"
      ],
      "metadata": {
        "id": "boZKa0jE8Qqd"
      }
    },
    {
      "cell_type": "code",
      "source": [
        "#@markdown <br><center><img src='https://miro.medium.com/max/2036/1*GW4cqNv-SIQ9BGGhssL1bQ.png' height=\"100\" alt=\"netdata\"/></center>\n",
        "#@title <center>Time Out Preventer (Advanced) </center></strong>\n",
        "%%capture\n",
        "AUTO_RECONNECT = True #@param {type:\"boolean\"}\n",
        "#@markdown **Run this code to prevent NOTEBOOK from Timeout**\n",
        "from os import makedirs\n",
        "makedirs(\"/root/.config/rclone\", exist_ok = True)\n",
        "if AUTO_RECONNECT:\n",
        "  import IPython\n",
        "  from google.colab import output\n",
        "\n",
        "  display(IPython.display.Javascript('''\n",
        "  function ClickConnect(){\n",
        "    btn = document.querySelector(\"colab-connect-button\")\n",
        "    if (btn != null){\n",
        "      console.log(\"Click colab-connect-button\"); \n",
        "      btn.click() \n",
        "      }\n",
        "    \n",
        "    btn = document.getElementById('ok')\n",
        "    if (btn != null){\n",
        "      console.log(\"Click reconnect\"); \n",
        "      btn.click() \n",
        "      }\n",
        "    }\n",
        "    \n",
        "  setInterval(ClickConnect,60000)\n",
        "  '''))"
      ],
      "metadata": {
        "cellView": "form",
        "id": "CLnaJDy38RLe"
      },
      "execution_count": null,
      "outputs": []
    },
    {
      "cell_type": "markdown",
      "source": [
        "**Check from which speed Google Will transfer your Files: (Optional)**"
      ],
      "metadata": {
        "id": "zbvt7TIl8hAS"
      }
    },
    {
      "cell_type": "code",
      "source": [
        "#@markdown <br><center><img src='https://github.com/TheCaduceus/Google-Drive-Cloner/blob/main/Img/st.jpeg?raw=true' height=\"50\" alt=\"ST-logo\"/></center>\n",
        "#@markdown <center><h3>Check Transfer Speed!</h3></center><br>\n",
        "!curl -s https://raw.githubusercontent.com/sivel/speedtest-cli/master/speedtest.py | python"
      ],
      "metadata": {
        "cellView": "form",
        "id": "VmHTfU178fm1"
      },
      "execution_count": null,
      "outputs": []
    },
    {
      "cell_type": "markdown",
      "source": [
        "**Single/Multiple URL(s) with Extraction and Combination**"
      ],
      "metadata": {
        "id": "btIfYegrH5aA"
      }
    },
    {
      "cell_type": "markdown",
      "source": [
        "**Before using this! Download Required Setup files and config/update them.**"
      ],
      "metadata": {
        "id": "fzKQMYA6KFzo"
      }
    },
    {
      "cell_type": "code",
      "source": [
        "#@markdown <br><center><img src='https://github.com/TheCaduceus/Torrent-to-GoogleDrive/blob/main/Img/80.png?raw=true' height=\"50\">\n",
        "#@markdown <center><h3>Setup Environment and Update Files</h3></center>\n",
        "!pip install pySmartDL rarfile"
      ],
      "metadata": {
        "cellView": "form",
        "id": "qio2dreo-kJf"
      },
      "execution_count": null,
      "outputs": []
    },
    {
      "cell_type": "markdown",
      "source": [
        "**Run the following code and provide One/Multiple Links with Automatic Extraction of ```.zip``` or ```.rar``` | Extraction will happen if the downloading file is in ```.zip``` or ```.rar``` after confirmation from User.**"
      ],
      "metadata": {
        "id": "wQK4QXaTIVwH"
      }
    },
    {
      "cell_type": "markdown",
      "source": [
        "**Save to My Drive:**"
      ],
      "metadata": {
        "id": "zr8-899sQMe4"
      }
    },
    {
      "cell_type": "code",
      "source": [
        "#@markdown <br><center><img src='https://th.bing.com/th/id/R.e09dea0066e6fc5f0c550fd299ea899a?rik=nMlcMah56a7WJw&riu=http%3a%2f%2ficons.iconarchive.com%2ficons%2fwebalys%2fkameleon.pics%2f512%2fDownload-Computer-icon.png&ehk=HvQcpWGlJteoPtsZDnGBwtkpXvkUk1w%2fVNuPhiS0dBA%3d&risl=&pid=ImgRaw&r=0' height=\"100\">\n",
        "#@markdown <center><h3><b>Download to My Drive</b></h3></center>\n",
        "import requests\n",
        "import sys\n",
        "import time\n",
        "import os\n",
        "import rarfile\n",
        "import shutil\n",
        "import zipfile\n",
        "from google.colab import drive\n",
        "from io import StringIO\n",
        "from pySmartDL import SmartDL\n",
        "\n",
        "\n",
        "def extract_compressed(source, dest):\n",
        "  if source.endswith(\".zip\"):\n",
        "    with zipfile.ZipFile(source, \"r\") as zip_ref:\n",
        "      zip_ref.extractall(path)\n",
        "\n",
        "  else:\n",
        "    with rarfile.RarFile(source, \"r\") as rar_ref:\n",
        "      rar_ref.extractall(path)\n",
        "\n",
        "  os.remove(source)\n",
        "\n",
        "def get_confirm_token(response):\n",
        "    for key, value in response.cookies.items():\n",
        "        if key.startswith('download_warning'):\n",
        "            return value\n",
        "\n",
        "# WIP\n",
        "def download_file_from_google_drive(id, destination):    \n",
        "    URL = \"https://docs.google.com/uc?export=download\"\n",
        "\n",
        "    session = requests.Session()\n",
        "\n",
        "    response = session.get(URL, params = { 'id' : id }, stream = True)\n",
        "    token = get_confirm_token(response)\n",
        "\n",
        "    if token:\n",
        "        params = { 'id' : id, 'confirm' : token }\n",
        "        response = session.get(URL, params = params, stream = True)\n",
        "\n",
        "downloads = []\n",
        "path = \"/gdrive/My Drive/Downloads/\"\n",
        "\n",
        "if not os.path.exists(path):\n",
        "    os.makedirs(path)\n",
        "\n",
        "while True:\n",
        "    link = input(\"Enter URL Or Type Exit: \")\n",
        "    if link.lower() == \"exit\":\n",
        "        break\n",
        "    downloads.append(link)\n",
        "\n",
        "sys.stdout.write(\"Downloading\\n\")\n",
        "\n",
        "while downloads:\n",
        "\n",
        "    file_name = (downloads[0].split(\"/\")[-1]).replace(\"%20\",\" \")\n",
        "\n",
        "    obj = SmartDL(downloads, progress_bar=False)\n",
        "    obj.start(blocking=False)\n",
        "\n",
        "    while not obj.isFinished():\n",
        "      if obj.get_status() == \"downloading\":\n",
        "        sys.stdout.write(f\"\\rDownloading {file_name} {obj.get_progress_bar()} {obj.get_progress()*100:.2f}% {obj.get_dl_size(human=True)} {obj.get_speed(human=True)}   \")\n",
        "        time.sleep(0.5)\n",
        "\n",
        "      else:\n",
        "        sys.stdout.write(f\"\\rCombining {file_name}  \")\n",
        "        time.sleep(1)\n",
        "\n",
        "    if obj.isSuccessful():      \n",
        "      if file_name.endswith(('.zip', '.rar')):\n",
        "        sys.stdout.write(f\"\\rExtracting  {file_name} \")\n",
        "        extract_compressed(obj.get_dest(), path)\n",
        "      else:\n",
        "        destination = path + obj.get_dest().split(\"/\")[-1]\n",
        "        \n",
        "        if os.path.exists(destination):\n",
        "          sys.stdout.write(\"\\rRemoving file with the same name on destination\")\n",
        "          os.remove(destination)\n",
        "        \n",
        "        shutil.move(obj.get_dest(),path)\n",
        "          \n",
        "    else:\n",
        "        sys.stdout.write(\"There were some errors:\")\n",
        "        for e in obj.get_errors():\n",
        "                sys.stdout.write(str(e))\n",
        "\n",
        "    sys.stdout.write(f\"\\r\\rCompleted {file_name} File size: {obj.get_dl_size(human=True)} Time taken: {obj.get_dl_time(human=True)}   \\n\")\n",
        "    del downloads[0]\n",
        "    \n",
        "sys.stdout.write(\"\\nAll downloads have been complete\")"
      ],
      "metadata": {
        "cellView": "form",
        "id": "0JCA4C_l9N3a"
      },
      "execution_count": null,
      "outputs": []
    },
    {
      "cell_type": "markdown",
      "source": [
        "**Save to Shared Drive:**"
      ],
      "metadata": {
        "id": "l6KR-uRiQx5I"
      }
    },
    {
      "cell_type": "markdown",
      "source": [
        "**Replace ```Shared Drive Name``` in the following field with the name of Shared Drive in which you want to Download File**"
      ],
      "metadata": {
        "id": "d2cxHtFmSYyc"
      }
    },
    {
      "cell_type": "code",
      "source": [
        "#@markdown <br><center><img src='https://th.bing.com/th/id/R.e09dea0066e6fc5f0c550fd299ea899a?rik=nMlcMah56a7WJw&riu=http%3a%2f%2ficons.iconarchive.com%2ficons%2fwebalys%2fkameleon.pics%2f512%2fDownload-Computer-icon.png&ehk=HvQcpWGlJteoPtsZDnGBwtkpXvkUk1w%2fVNuPhiS0dBA%3d&risl=&pid=ImgRaw&r=0' height=\"100\">\n",
        "#@markdown <center><h3><b>Download to Shared Drive</b></h3></center>\n",
        "import requests\n",
        "import sys\n",
        "import time\n",
        "import os\n",
        "import rarfile\n",
        "import shutil\n",
        "import zipfile\n",
        "from google.colab import drive\n",
        "from io import StringIO\n",
        "from pySmartDL import SmartDL\n",
        "\n",
        "\n",
        "def extract_compressed(source, dest):\n",
        "  if source.endswith(\".zip\"):\n",
        "    with zipfile.ZipFile(source, \"r\") as zip_ref:\n",
        "      zip_ref.extractall(path)\n",
        "\n",
        "  else:\n",
        "    with rarfile.RarFile(source, \"r\") as rar_ref:\n",
        "      rar_ref.extractall(path)\n",
        "\n",
        "  os.remove(source)\n",
        "\n",
        "def get_confirm_token(response):\n",
        "    for key, value in response.cookies.items():\n",
        "        if key.startswith('download_warning'):\n",
        "            return value\n",
        "\n",
        "# WIP\n",
        "def download_file_from_google_drive(id, destination):    \n",
        "    URL = \"https://docs.google.com/uc?export=download\"\n",
        "\n",
        "    session = requests.Session()\n",
        "\n",
        "    response = session.get(URL, params = { 'id' : id }, stream = True)\n",
        "    token = get_confirm_token(response)\n",
        "\n",
        "    if token:\n",
        "        params = { 'id' : id, 'confirm' : token }\n",
        "        response = session.get(URL, params = params, stream = True)\n",
        "\n",
        "downloads = [] #Enter SHARED DRIVE NAME Below \n",
        "path = \"/gdrive/Shared drives/Shared Drive Name/Downloads/\" #@param {type:\"string\"}\n",
        "\n",
        "if not os.path.exists(path):\n",
        "    os.makedirs(path)\n",
        "\n",
        "while True:\n",
        "    link = input(\"Enter URL Or Type Exit: \")\n",
        "    if link.lower() == \"exit\":\n",
        "        break\n",
        "    downloads.append(link)\n",
        "\n",
        "sys.stdout.write(\"Downloading\\n\")\n",
        "\n",
        "while downloads:\n",
        "\n",
        "    file_name = (downloads[0].split(\"/\")[-1]).replace(\"%20\",\" \")\n",
        "\n",
        "    obj = SmartDL(downloads, progress_bar=False)\n",
        "    obj.start(blocking=False)\n",
        "\n",
        "    while not obj.isFinished():\n",
        "      if obj.get_status() == \"downloading\":\n",
        "        sys.stdout.write(f\"\\rDownloading {file_name} {obj.get_progress_bar()} {obj.get_progress()*100:.2f}% {obj.get_dl_size(human=True)} {obj.get_speed(human=True)}   \")\n",
        "        time.sleep(0.5)\n",
        "\n",
        "      else:\n",
        "        sys.stdout.write(f\"\\rCombining {file_name}  \")\n",
        "        time.sleep(1)\n",
        "\n",
        "    if obj.isSuccessful():      \n",
        "      if file_name.endswith(('.zip', '.rar')):\n",
        "        sys.stdout.write(f\"\\rExtracting  {file_name} \")\n",
        "        extract_compressed(obj.get_dest(), path)\n",
        "      else:\n",
        "        destination = path + obj.get_dest().split(\"/\")[-1]\n",
        "        \n",
        "        if os.path.exists(destination):\n",
        "          sys.stdout.write(\"\\rRemoving file with the same name on destination\")\n",
        "          os.remove(destination)\n",
        "        \n",
        "        shutil.move(obj.get_dest(),path)\n",
        "          \n",
        "    else:\n",
        "        sys.stdout.write(\"There were some errors:\")\n",
        "        for e in obj.get_errors():\n",
        "                sys.stdout.write(str(e))\n",
        "\n",
        "    sys.stdout.write(f\"\\r\\rCompleted {file_name} File size: {obj.get_dl_size(human=True)} Time taken: {obj.get_dl_time(human=True)}   \\n\")\n",
        "    del downloads[0]\n",
        "    \n",
        "sys.stdout.write(\"\\nAll downloads have been complete\")"
      ],
      "metadata": {
        "cellView": "form",
        "id": "2Kgv9W8NRRG4"
      },
      "execution_count": null,
      "outputs": []
    },
    {
      "cell_type": "markdown",
      "source": [
        "**Single URL with Custom Name:\n",
        "Replace the following:<br> ```URL HERE``` with Direct Download Link, and<br> ```file_name.format``` from custom file name you want to give and also write its original format like (.txt/.mkv/.mp3/.mp4/.pdf/.json/.iso)**"
      ],
      "metadata": {
        "id": "NI1l4UGOLChn"
      }
    },
    {
      "cell_type": "markdown",
      "source": [
        "**Save to My Drive:**"
      ],
      "metadata": {
        "id": "JEIVUHrrMADh"
      }
    },
    {
      "cell_type": "code",
      "source": [
        "import requests\n",
        "URL = \"URL HERE\" \n",
        "\t\n",
        "r = requests.get(URL, stream = True)\n",
        " # No Dependency\n",
        "with open(\"/gdrive/My Drive/file_name.format\", \"wb\") as file: \n",
        "  # Always write format like (.txt/.mp3/.mp4/.pdf/.json/.iso)\n",
        "\tfor block in r.iter_content(chunk_size = 1024):\n",
        "\t\tif block:\n",
        "\t\t\tfile.write(block)"
      ],
      "metadata": {
        "id": "yWKO4XuhKwHi"
      },
      "execution_count": null,
      "outputs": []
    },
    {
      "cell_type": "markdown",
      "source": [
        "**Save to Shared Drive:**"
      ],
      "metadata": {
        "id": "m8nnp2R2MIRt"
      }
    },
    {
      "cell_type": "markdown",
      "source": [
        "**First Replace the Following:<br> ```Shared Drive Name``` with Shared Drive name in which you want to Save the File<br>```URL HERE``` with Direct Download Link, and<br>```file_name.format``` from custom file name you want to give and also write its original format like (.txt/.mkv/.mp3/.mp4/.pdf/.json/.iso)**"
      ],
      "metadata": {
        "id": "gJ5OHZv1MR3t"
      }
    },
    {
      "cell_type": "code",
      "source": [
        "import requests\n",
        "file_url = \"URL HERE\" #<--Required\n",
        "\t\n",
        "r = requests.get(file_url, stream = True)\n",
        " # No Dependency\n",
        "with open(\"/gdrive/Shared drives/Shared Drive Name/file_name.format\", \"wb\") as file:\n",
        "  # Always write format like (.txt/.mp3/.mp4/.pdf/.json/.iso)\n",
        "\tfor block in r.iter_content(chunk_size = 1024):\n",
        "\t\tif block:\n",
        "\t\t\tfile.write(block)"
      ],
      "metadata": {
        "id": "CYjIhDRKNus0"
      },
      "execution_count": null,
      "outputs": []
    },
    {
      "cell_type": "markdown",
      "source": [
        "You need to Enter exact correct name of Shared Drive! Run the following code to see the name of all Shared Drive and copy them without ```''```."
      ],
      "metadata": {
        "id": "ZWVD8HwQuXqB"
      }
    },
    {
      "cell_type": "code",
      "source": [
        "#@markdown <br><center><img src='https://upload.wikimedia.org/wikipedia/commons/thumb/d/da/Google_Drive_logo.png/600px-Google_Drive_logo.png' height=\"50\" alt=\"Gdrive-logo\"/></center>\n",
        "#@markdown <center><h3>Show Name of Shared Drives</h3></center><br>\n",
        "!ls '/gdrive/Shared drives/'"
      ],
      "metadata": {
        "cellView": "form",
        "id": "Sg-y9MSYuTso"
      },
      "execution_count": null,
      "outputs": []
    }
  ]
}