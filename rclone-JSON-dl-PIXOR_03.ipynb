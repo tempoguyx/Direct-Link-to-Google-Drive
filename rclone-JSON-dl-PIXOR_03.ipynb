{
  "cells": [
    {
      "cell_type": "markdown",
      "metadata": {
        "colab_type": "text",
        "id": "view-in-github"
      },
      "source": [
        "<a href=\"https://colab.research.google.com/github/tempoguyx/Direct-Link-to-Google-Drive/blob/main/rclone-JSON-dl-PIXOR_03.ipynb\" target=\"_parent\"><img src=\"https://colab.research.google.com/assets/colab-badge.svg\" alt=\"Open In Colab\"/></a>"
      ]
    },
    {
      "cell_type": "markdown",
      "metadata": {
        "id": "xU_gKkKgoLW6"
      },
      "source": [
        "**First Connect your Google Account! So that Rclone can save/fetch its Progress**\n",
        "\n",
        "> Indented block\n",
        "\n"
      ]
    },
    {
      "cell_type": "code",
      "execution_count": null,
      "metadata": {
        "cellView": "form",
        "id": "Yuqm_-xBhOEH"
      },
      "outputs": [],
      "source": [
        "#@markdown <br><center><img src=\"https://upload.wikimedia.org/wikipedia/commons/thumb/d/da/Google_Drive_logo.png/600px-Google_Drive_logo.png\" height=\"50\" alt=\"Gdrive-logo' \"/></center>\n",
        "#@markdown <center><h3>Connect to Google Account</h3></center><br>\n",
        "MODE = \"MOUNT\" #@param [\"MOUNT\", \"UNMOUNT\"]\n",
        "#Mount your Gdrive! \n",
        "from google.colab import drive\n",
        "drive.mount._DEBUG = False\n",
        "if MODE == \"MOUNT\":\n",
        "  drive.mount('/content/drive', force_remount=True)\n",
        "elif MODE == \"UNMOUNT\":\n",
        "  try:\n",
        "    drive.flush_and_unmount()\n",
        "  except ValueError:\n",
        "    pass\n",
        "  get_ipython().system_raw(\"rm -rf /root/.config/Google/DriveFS\")"
      ]
    },
    {
      "cell_type": "markdown",
      "metadata": {
        "id": "7vbqfASX1jHx"
      },
      "source": [
        "**First Download Required Files by Running the Below Code:**"
      ]
    },
    {
      "cell_type": "markdown",
      "metadata": {
        "id": "zl17h2xMOCq_"
      },
      "source": []
    },
    {
      "cell_type": "code",
      "execution_count": null,
      "metadata": {
        "cellView": "form",
        "id": "DV4YNac9Au21"
      },
      "outputs": [],
      "source": [
        "#@markdown <br><center><img src=\"https://www.caduceus.ml/Img/Setup_img.png\" height=\"50\" alt=\"Setup-Logo' \"/></center>\n",
        "#@markdown <center><h3><b>Setup & Configure Environment</b></h3></center><br>\n",
        "Stable = \"\"\n",
        "Beta = \"-s beta\"\n",
        "Install_Rclone_Flavour = Stable #@param [\"Stable\", \"Beta\"] {type:\"raw\"}\n",
        "print(\"Successfully Connected to Runtime!\")\n",
        "print(\"Download Request Initiated\")\n",
        "! curl https://gist.githubusercontent.com/tempoguyx/9155c21d8fbb71552683e7992f9b61e7/raw/41576b6ce2d5f61f8ed2fb5c55171879f046674f/cola.sh | sudo bash {Install_Rclone_Flavour}"
      ]
    },
    {
      "cell_type": "markdown",
      "metadata": {
        "id": "NOC4UVnbmjcs"
      },
      "source": [
        "<b>Fetch your Rclone Config File! (If any) from your Google Drive's My Drive, if you want to continue your work with previously created Remotes!<font color=\"red\"> Please Avoid storing too many Rclone Config file in your My Drive.</font>(Optional)</b>"
      ]
    },
    {
      "cell_type": "code",
      "execution_count": null,
      "metadata": {
        "id": "PUyDrhZ5mi2F"
      },
      "outputs": [],
      "source": [
        "#@markdown <br><center><img src=\"https://1.bp.blogspot.com/-M5PLcSana6M/XgBHF7jUjiI/AAAAAAAAUzs/S24qhuijluwKlzIOnc2gntoI-U83ZsrJACLcBGAsYHQ/s1600/rclone_logo.png\" height=\"50\" alt=\"Rclone-Logo' \"/></center>\n",
        "#@markdown <center><h3><b>Fetch Previous Rclone Config File from My Drive</b></h3></center><br>\n",
        "!rclone delete /root/.config/rclone/\n",
        "!rclone copy /content/drive/Shareddrives/PIXOR_FLIX/_accounts/rclone.conf /root/.config/rclone/\n",
        "print(\"Successfully Fetched!\")"
      ]
    },
    {
      "cell_type": "markdown",
      "metadata": {
        "id": "2GS2DqLNOcQ8"
      },
      "source": [
        "**Using Service Accounts: Just zip the \"accounts\" folder which have 100 json files and upload it using the below code. Name of zip should be ``accounts.zip``. Then copy the path of json file and use it to create Rclone Config file below. (Optional)** ***(Refer Guide for detailed help)***"
      ]
    },
    {
      "cell_type": "markdown",
      "metadata": {
        "id": "GE1KvRAg2db5"
      },
      "source": [
        "**Lets Create/Edit/View/Delete your Rclone Config file:<br>``Upload_Config_File``: Upload your already made Rclone config file to use it.<br>``Save_Config_MyDrive``: To save created Rclone Config File in Google Drive's My Drive.<br>``Download_Config``: Download Created Rclone Config file in your Device.**\n"
      ]
    },
    {
      "cell_type": "code",
      "execution_count": null,
      "metadata": {
        "cellView": "form",
        "id": "UdtGnf8hudAN"
      },
      "outputs": [],
      "source": [
        "#@markdown <br><center><img src=\"https://1.bp.blogspot.com/-M5PLcSana6M/XgBHF7jUjiI/AAAAAAAAUzs/S24qhuijluwKlzIOnc2gntoI-U83ZsrJACLcBGAsYHQ/s1600/rclone_logo.png\" height=\"50\" alt=\"Rclone-Logo' \"/></center>\n",
        "#@markdown <center><h3><b>Create/Edit/Delete Rclone Config File</b></h3></center><br>\n",
        "from google.colab import files\n",
        "from google.colab import output\n",
        "import time\n",
        "#@markdown ****\n",
        "Upload_Config_File = False #@param {type:\"boolean\"} \n",
        "Save_Config_MyDrive = True #@param {type:\"boolean\"}\n",
        "Download_Config = False #@param {type:\"boolean\"}\n",
        "print(\"Script by Dr.Caduceus\")\n",
        "if(Upload_Config_File==True):\n",
        "  !rclone delete \"/root/.config/rclone/rclone.conf\"\n",
        "  output.clear()\n",
        "  config_file = files.upload()\n",
        "  !rclone move \"/content/rclone.conf\" \"/root/.config/rclone/\"\n",
        "  print(\"Reading Config File\")\n",
        "  print(config_file)\n",
        "  time.sleep(2)\n",
        "if(Save_Config_MyDrive + Download_Config==False):\n",
        "  print(\"Warning! You have not selected any saving options for Rclone config file. It will be automatically deleted once this Runtime disconnect.\")\n",
        "!rclone config\n",
        "if(Save_Config_MyDrive==True):\n",
        "  print(\"Getting Config File!\")\n",
        "  print(\"Uploading Rclone config to Google Drive (My Drive)...\")\n",
        "  !rclone copy \"/root/.config/rclone/rclone.conf\" \"/content/drive/MyDrive/\"\n",
        "  print(\"Rclone config saved to your Google Drive in My Drive!\")\n",
        "if(Download_Config==True):\n",
        "  print(\"Getting Config File!\")\n",
        "  print(\"Initiating Download Request to your Browser.\")\n",
        "  files.download(\"/root/.config/rclone/rclone.conf\")"
      ]
    },
    {
      "cell_type": "markdown",
      "metadata": {
        "id": "TZIKC3rl1ftr"
      },
      "source": [
        "**Transfer Tools:**"
      ]
    },
    {
      "cell_type": "markdown",
      "metadata": {
        "id": "yvyL2d3y56My"
      },
      "source": [
        "**Connect your Cloud Service Accounts, between which you want to transfer your Data! Run the Following Code. It will show the names of configured Cloud Accounts by you in your Rclone Config file.**"
      ]
    },
    {
      "cell_type": "code",
      "execution_count": null,
      "metadata": {
        "cellView": "form",
        "id": "Rgu4rSMi2NMr"
      },
      "outputs": [],
      "source": [
        "#@markdown <br>\n",
        "#@markdown <center><h3><b>Connect To Cloud Accounts</b></h3></center>\n",
        "#@markdown <br><center><img src=\"https://cdn1.iconfinder.com/data/icons/cloud-system-color-line/64/cluster-512.png\" height=\"100\" alt=\"Rclone-Logo' \"/></center>\n",
        "#@markdown <center><b>Connect your Cloud Accounts (Through Rclone Config file!) between which you want to transfer Data!</b></center>\n",
        "import os\n",
        "from IPython.display import HTML, clear_output\n",
        "import uuid\n",
        "import ipywidgets as widgets\n",
        "from google.colab import output\n",
        "import re\n",
        "##########################################\n",
        "\n",
        "class MakeButton(object):\n",
        "  def __init__(self, title, callback, style):\n",
        "    self._title = title\n",
        "    self._callback = callback\n",
        "    self._style = style\n",
        "  def _repr_html_(self):\n",
        "    callback_id = 'button-' + str(uuid.uuid4())\n",
        "    output.register_callback(callback_id, self._callback)\n",
        "    if self._style != \"\":\n",
        "      style_html = \"p-Widget jupyter-widgets jupyter-button widget-button mod-\" + self._style\n",
        "    else:\n",
        "      style_html = \"p-Widget jupyter-widgets jupyter-button widget-button\"\n",
        "    template = \"\"\"<button class=\"{style_html}\" id=\"{callback_id}\">{title}</button>\n",
        "        <script>\n",
        "          document.querySelector(\"#{callback_id}\").onclick = (e) => {{\n",
        "            google.colab.kernel.invokeFunction('{callback_id}', [], {{}})\n",
        "            e.preventDefault();\n",
        "          }};\n",
        "        </script>\"\"\"\n",
        "    html = template.format(title=self._title, callback_id=callback_id, style_html=style_html)\n",
        "    return html\n",
        "  \n",
        "def ShowAC():\n",
        "  clear_output(wait=True)\n",
        "  display(\n",
        "      widgets.HBox(\n",
        "          [widgets.VBox(\n",
        "              [widgets.HTML(\n",
        "                  '''<h3 style=\"font-family:Trebuchet MS;color:#4f8bd6;margin-top:0px;\">\n",
        "                  Rclone available config...</h3>\n",
        "                  '''\n",
        "                  ),\n",
        "               mountNam]\n",
        "               )\n",
        "          ]\n",
        "          )\n",
        "      )\n",
        "  \n",
        "  display(HTML(\"<br>\"), MakeButton(\"Mount\", MountCMD, \"primary\"),\n",
        "          MakeButton(\"Unmount\", unmountCMD, \"danger\"))\n",
        "content = open(\"/root/.config/rclone/rclone.conf\").read()\n",
        "avCon = re.findall(r\"^\\[(.+)\\]$\", content, re.M)\n",
        "mountNam = widgets.Dropdown(options=avCon)\n",
        "cache_path=\"/content/temp/rCloneTemp\"\n",
        "def MountCMD():\n",
        "    mPoint = f\"/content/drives/{mountNam.value}\"\n",
        "    os.makedirs(mPoint, exist_ok=True)\n",
        "    !rclone mount $mountNam.value: $mPoint --user-agent 'Mozilla' --buffer-size 256M --transfers 10 --vfs-cache-mode minimal --vfs-read-chunk-size 500M --vfs-cache-max-size 50G --vfs-cache-max-age 0h0m1s --vfs-cache-poll-interval 0m1s --cache-dir '/content/temp/rCloneTemp' --allow-other --daemon \n",
        "\n",
        "    if os.path.isdir(mPoint)== True:\n",
        "      print(f\"Mount success! - \\t{mPoint}\")\n",
        "    else:\n",
        "      print(f\"Mount failed! - \\t{mPoint}\")\n",
        "\n",
        "def unmountCMD():\n",
        "  mPoint = f\"/content/drives/{mountNam.value}\"\n",
        "  if os.system(f\"fusermount -uz {mPoint}\") == 0:\n",
        "    runSh(f\"rm -r {mPoint}\")\n",
        "    print(f\"Unmounted success! - \\t{mPoint}\")\n",
        "  else:\n",
        "    runSh(f\"fusermount -uz {mPoint}\", output=True)\n",
        "\n",
        "ShowAC()"
      ]
    },
    {
      "cell_type": "markdown",
      "metadata": {
        "id": "dFyz7bZgJvgI"
      },
      "source": [
        "**Before Transferring your File or Folders! Run the \"Time out Preventer\" to prevent Google Colab from getting time out.**"
      ]
    },
    {
      "cell_type": "code",
      "execution_count": null,
      "metadata": {
        "cellView": "form",
        "id": "XWd8I18DJhrN"
      },
      "outputs": [],
      "source": [
        "#@markdown <br><center><img src='https://miro.medium.com/max/2036/1*GW4cqNv-SIQ9BGGhssL1bQ.png' height=\"100\" alt=\"netdata\"/></center>\n",
        "#@title <center><b>Time Out Preventer (Advanced) </b></center></strong>\n",
        "%%capture\n",
        "AUTO_RECONNECT = True #@param {type:\"boolean\"}\n",
        "#@markdown **Run this code to prevent Google Colab from Timeout**\n",
        "from os import makedirs\n",
        "makedirs(\"/root/.config/rclone\", exist_ok = True)\n",
        "if AUTO_RECONNECT:\n",
        "  import IPython\n",
        "  from google.colab import output\n",
        "\n",
        "  display(IPython.display.Javascript('''\n",
        "  function ClickConnect(){\n",
        "    btn = document.querySelector(\"colab-connect-button\")\n",
        "    if (btn != null){\n",
        "      console.log(\"Click colab-connect-button\"); \n",
        "      btn.click() \n",
        "      }\n",
        "    \n",
        "    btn = document.getElementById('ok')\n",
        "    if (btn != null){\n",
        "      console.log(\"Click reconnect\"); \n",
        "      btn.click() \n",
        "      }\n",
        "    }\n",
        "    \n",
        "  setInterval(ClickConnect,60000)\n",
        "  '''))"
      ]
    },
    {
      "cell_type": "markdown",
      "metadata": {
        "id": "hlnd4GxV7Fux"
      },
      "source": [
        "**Now Enter the Source & Destination Address and Notification settings to get notify once your Task got Completed! To get both Address click on File Icon.**"
      ]
    },
    {
      "cell_type": "code",
      "execution_count": null,
      "metadata": {
        "cellView": "form",
        "colab": {
          "base_uri": "https://localhost:8080/"
        },
        "id": "KdX4-pL86jyw",
        "outputId": "201c33ac-5b95-4edc-80a0-6010a1ec518b"
      },
      "outputs": [
        {
          "name": "stdout",
          "output_type": "stream",
          "text": [
            "2022/06/25 16:07:45 INFO  :   591.969 MiB / 1.643 GiB, 35%, 70.988 MiB/s, ETA 15s\n",
            "2022/06/25 16:07:50 INFO  :   815.984 MiB / 1.643 GiB, 49%, 61.532 MiB/s, ETA 14s\n",
            "2022/06/25 16:07:55 INFO  :     1.020 GiB / 1.643 GiB, 62%, 55.915 MiB/s, ETA 11s\n",
            "2022/06/25 16:08:00 INFO  :     1.228 GiB / 1.643 GiB, 75%, 53.244 MiB/s, ETA 7s\n",
            "2022/06/25 16:08:05 INFO  :     1.424 GiB / 1.643 GiB, 87%, 48.914 MiB/s, ETA 4s\n"
          ]
        }
      ],
      "source": [
        "#@markdown <br>\n",
        "#@markdown <center><img src=\"https://forum.rclone.org/uploads/default/original/2X/d/da6ccb2784ff3fa73d9339300530e0aae4d6cebd.png\" alt=\"rclone forum\" width=150></center>\n",
        " \n",
        "#@markdown ---\n",
        "\n",
        "import json, requests\n",
        "\n",
        "master_key = \"\" #@param {type:\"string\"}\n",
        "#json bin URL e.g. https://api.jsonbin.io/v3/b/JSON_BIN_ID/latest\n",
        "json_url = \"https://api.jsonbin.io/v3/b/62b7328f449a1f38211aaabf/latest\" #@param {type:\"string\"}\n",
        "def read_json_from_url(url):\n",
        "    headers = {\n",
        "        'X-Master-Key': master_key\n",
        "    }\n",
        "    req = requests.get(url, json=None, headers=headers)\n",
        "    data = json.loads(req.text)\n",
        "    return data['record']\n",
        "\n",
        "def read_json_from_file(file_path):\n",
        "  with open(file_path) as json_file:\n",
        "    data = json.load(json_file)\n",
        "    print(data)\n",
        "    return data\n",
        "\n",
        "source = \"\" #@param {type:\"string\"}\n",
        "destination = \"/content/drives/lose01/sites/blacked\" #@param {type:\"string\"}\n",
        "mode = \"copyurl\" #@param [\"copy\", \"copyto\", \"copyurl\", \"move\", \"moveto\", \"check\", \"sync\", \"bisync\", \"cat\", \"mkdir\",\"cleanup\", \"ls\", \"lsd\", \"lsl\", \"md5sum\", \"sha1sum\", \"size\", \"genautocomplete\", \"gendocs\", \"tree\",\"obscure\"]\n",
        "dry_run = False #@param {type:\"boolean\"}\n",
        "Extra_args = \"\" #@param {type:\"string\"}\n",
        "#@markdown ---\n",
        "Email_notification = False #@param {type:\"boolean\"}\n",
        "logs = False #@param {type:\"boolean\"}\n",
        "emailID = \"\" #@param {type:\"string\"}\n",
        "password = \"\" #@param {type:\"string\"}\n",
        "Receiver_ID = \"\" #@param {type:\"string\"}\n",
        "#@markdown ---\n",
        "import smtplib \n",
        "from urllib.parse import urlparse\n",
        "from urllib.parse import parse_qs\n",
        "import json\n",
        "from re import sub\n",
        "\n",
        "def kebab(s):\n",
        "  return '-'.join(\n",
        "    sub(r\"(\\s|_|-)+\",\" \",\n",
        "    sub(r\"[A-Z]{2,}(?=[A-Z][a-z]+[0-9]*|\\b)|[A-Z]?[a-z]+[0-9]*|[A-Z]|[0-9]+\",\n",
        "    lambda mo: ' ' + mo.group(0).lower(), s)).split())\n",
        "  \n",
        "\n",
        "########################################\n",
        "args = \"--transfers 20 --checkers 20 --stats-one-line --stats=5s -v --tpslimit 95 --tpslimit-burst 40 \"\n",
        "if mode == \"check\":\n",
        "  args += \"--one-way \"\n",
        "if dry_run == True:\n",
        "    args +=\" --dry-run \"\n",
        "if logs == True:\n",
        "  args += \" --log-file rClone_log.txt \"\n",
        "if Extra_args != \"\":\n",
        "  args +=Extra_args\n",
        "######################################\n",
        "def runrClone():\n",
        "  !rclone --user-agent \"Mozilla\" \"$mode\" \"$source\" \"$destination\" $args\n",
        "\n",
        "def runCopyURLWithrClone(file_url, file_name):\n",
        "  # COMMAND: rclone copyurl https://example.com dest:path [flags]\n",
        "  print(\"downloading \", file_url, file_name)\n",
        "  # file_name = get_filename_from_queryparams(file_url, 'filename')\n",
        "  print(\"FILE NAME :\", file_name)\n",
        "  !rclone --user-agent \"Mozilla\" copyurl \"$file_url\" \"$destination/$file_name\" $args\n",
        "\n",
        "def downloadFileList():\n",
        "  # json_file_path = '/content/drive/MyDrive/dl.json';\n",
        "  downloads = read_json_from_url(json_url)\n",
        "  i = 0\n",
        "  while i < len(downloads):\n",
        "    print(\"~~~~~ DOWNLOADING \"+ str(i+1) +\" of \"+ str(len(downloads)))\n",
        "    print(downloads[i])\n",
        "    file_url = downloads[i]['videoLink']\n",
        "    file_name = downloads[i]['outputName']\n",
        "    runCopyURLWithrClone(file_url, file_name)\n",
        "    i = i + 1\n",
        "  print(\"COMPLETED DOWNLOADING FILES\")\n",
        "  \n",
        "def checkEmail():\n",
        "  if (Email_notification == True and logs == False):\n",
        "    print(\"You will receive only a notification after task has finished.\")\n",
        "    runrClone()\n",
        "    #Send only notification\n",
        "     \n",
        "    s = smtplib.SMTP('smtp.gmail.com', 587) \n",
        "    s.starttls() \n",
        "    s.login(emailID , password)\n",
        "    message = \"\"\n",
        "    s.sendmail(emailID, Receiver_ID, message)\n",
        "    print(\"Email Alert Sent!\")  \n",
        "    s.quit()\n",
        "  elif (Email_notification == True and logs == True):\n",
        "    print(\"You will receive a notification with log attached after task has finished.\")\n",
        "    runrClone()\n",
        "    #Sending email notification with logs\n",
        "    \n",
        "    from email.mime.multipart import MIMEMultipart \n",
        "    from email.mime.text import MIMEText \n",
        "    from email.mime.base import MIMEBase \n",
        "    from email import encoders \n",
        "\n",
        "    fromaddr = emailID\n",
        "    toaddr = Receiver_ID\n",
        "    msg = MIMEMultipart() \n",
        "    # storing the senders email address \n",
        "    msg['From'] = fromaddr \n",
        "    # storing the receivers email address \n",
        "    msg['To'] = toaddr \n",
        "    # storing the subject \n",
        "    msg['Subject'] = \"Colab has Finished Running your Cell\"\n",
        "    # string to store the body of the mail \n",
        "    body = \"Your rClone Task has Completed!\"\n",
        "\n",
        "    msg.attach(MIMEText(body, 'plain'))\n",
        "    filename = \"rClone_log.txt\"\n",
        "    attachment = open(\"/content/rClone_log.txt\", \"rb\")\n",
        "    p = MIMEBase('application', 'octet-stream') \n",
        "    p.set_payload((attachment).read()) \n",
        "    # encode into base64 \n",
        "    encoders.encode_base64(p) \n",
        " \n",
        "    p.add_header('Content-Disposition', \"attachment; filename= %s\" % filename) \n",
        "    msg.attach(p)  \n",
        "    s = smtplib.SMTP('smtp.gmail.com', 587) \n",
        "    s.starttls() \n",
        "    s.login(fromaddr, password) \n",
        "    text = msg.as_string() \n",
        "    s.sendmail(fromaddr, toaddr, text)\n",
        "    print(\"Email Alert Sent with log!\")  \n",
        "    s.quit() \n",
        "  elif (Email_notification == False and logs == False):\n",
        "    print(\"You will not receive any notification!!!.\")\n",
        "    downloadFileList()\n",
        "checkEmail()"
      ]
    },
    {
      "cell_type": "code",
      "execution_count": null,
      "metadata": {
        "id": "N3Yt32tBYkJa"
      },
      "outputs": [],
      "source": []
    },
    {
      "cell_type": "code",
      "execution_count": null,
      "metadata": {
        "id": "wRILVFDshuQS"
      },
      "outputs": [],
      "source": [
        "!du -sh /content/drives/PixerEnglish_1\n"
      ]
    },
    {
      "cell_type": "markdown",
      "metadata": {
        "id": "MszqFrsLw8cD"
      },
      "source": [
        "**Delete your Files/Folder/Directory from below!<br>``Delete`` This Mode will delete the content of folder or single file.<br>``Purge`` To delete whole Directory and leaving nothing behind.<br>``rmdir`` Completely Delete the given path.<br>``rmdirs`` Remove any empty directories under the path.**"
      ]
    },
    {
      "cell_type": "code",
      "execution_count": null,
      "metadata": {
        "cellView": "form",
        "id": "ba5oxu8T5fwt"
      },
      "outputs": [],
      "source": [
        "import time\n",
        "# User Input\n",
        "Action = \"delete\" #@param [\"delete\", \"purge\", \"rmdir\", \"rmdirs\"]\n",
        "Path = \"\" #@param {type:\"string\"} \n",
        "Arguments = \"\" #@param {type:\"string\"}\n",
        "# Command\n",
        "print(\"Action Selected:\" + Action)\n",
        "print(\"Selected Wrong Action? You have 10 Seconds to cancel this Task.\")\n",
        "time.sleep( 10 )\n",
        "!rclone {Action} {Path} {Arguments}\n",
        "# Output\n",
        "print(\"Task Completed!\")"
      ]
    },
    {
      "cell_type": "markdown",
      "metadata": {
        "id": "psDoa98YIwLw"
      },
      "source": [
        "###**Packing & Extraction: (BETA)**"
      ]
    },
    {
      "cell_type": "markdown",
      "metadata": {
        "id": "e31QFePzK04k"
      },
      "source": [
        "**<font color=\"red\">Never put \"/\" at the end of Source_Path or Destination_Path.**"
      ]
    },
    {
      "cell_type": "code",
      "execution_count": null,
      "metadata": {
        "cellView": "form",
        "id": "qSBmZu-iIv0V"
      },
      "outputs": [],
      "source": [
        "from google.colab import output\n",
        "# User Input\n",
        "Action = \"Zip\" #@param [\"Zip\", \"UnZip\", \"RaR\", \"RaR with Password\", \"UnRaR\", \"UnRaR with Password\", \"Tar\", \"UnTar\", \"Tar.gz\", \"UnTar.gz\", \"Tar.bz2\", \"UnTar.bz2\", \"Extract 7z\"]\n",
        "Packed_Output_File_Name = \"Required While Packing\" #@param {type:\"string\"}\n",
        "Source_Path = \"\" #@param {type:\"string\"}\n",
        "Destination_Path = \"\" #@param {type:\"string\"}\n",
        "# Packing + Custom Name\n",
        "Pack_Dest = Destination_Path + \"/\" + Packed_Output_File_Name\n",
        "UnPack_Dest = Destination_Path\n",
        "sz_Dest = Destination_Path + \"/\"\n",
        "Tar_Dest = Destination_Path + \"/\" + Packed_Output_File_Name + \".tar\"\n",
        "Targz_Dest = Destination_Path + \"/\" + Packed_Output_File_Name + \".tar.gz\"\n",
        "Tarbz_Dest = Destination_Path + \"/\" + Packed_Output_File_Name + \".tar.bz\"\n",
        "# Task Completed Message\n",
        "output = \"Task Completed Successfully!\"\n",
        "# Process\n",
        "if(Action==\"Zip\"):\n",
        "  !zip {Pack_Dest} {Source_Path}\n",
        "  print(output)\n",
        "if(Action==\"UnZip\"):\n",
        "  !unzip {Source_Path} -d {UnPack_Dest}\n",
        "  print(output)\n",
        "if(Action==\"RaR\"):\n",
        "  !apt-get install rar\n",
        "  !rar a {Pack_Dest} {Source_Path}\n",
        "  print(output)\n",
        "if(Action==\"RaR with Password\"):\n",
        "  !apt-get install rar\n",
        "  !rar a -p {Pack_Dest} {Source_Path}\n",
        "  print(output)\n",
        "if(Action==\"UnRaR\"):\n",
        "  !unrar x {Source_Path} {UnPack_Dest}\n",
        "  print(output)\n",
        "if(Action==\"UnRaR with Password\"):\n",
        "  !unrar x -Y {Source_Path} {UnPack_Dest}\n",
        "  print(output)\n",
        "if(Action==\"Tar\"):\n",
        "  !tar -cvf {Tar_Dest} {Source_Path}\n",
        "  print(output)\n",
        "if(Action==\"UnTar\"):\n",
        "  !tar -xvf {Source_Path} -C {UnPack_Dest}\n",
        "  print(output)\n",
        "if(Action==\"Tar.gz\"):\n",
        "  !tar -czvf {Targz_Dest} {Source_Path}\n",
        "  print(output)\n",
        "if(Action==\"UnTar.gz\"):\n",
        "  !tar -xzvf {Source_Path} -C {UnPack_Dest}\n",
        "  print(output)\n",
        "if(Action==\"Tar.bz2\"):\n",
        "  !tar -cjvf {Tarbz_Dest} {Source_Path}\n",
        "  print(output)\n",
        "if(Action==\"UnTar.bz2\"):\n",
        "  !tar -xjvf {Source_Path} -C {UnPack_Dest}\n",
        "  print(output)\n",
        "if(Action==\"Extract 7z\"):\n",
        "  %cd {sz_Dest}\n",
        "  !7z x {Source_Path}"
      ]
    },
    {
      "cell_type": "markdown",
      "metadata": {
        "id": "3-GPORzzZXPF"
      },
      "source": [
        "## **Advanced Task: Run Commands**"
      ]
    },
    {
      "cell_type": "markdown",
      "metadata": {
        "id": "FlNn7fXbWtHz"
      },
      "source": [
        "**You can run any Rclone Command below after downloading its setup from above!<br>List of Commands:**\n",
        "```\n",
        "# Putting '!' before rclone is mandatory!\n",
        "---\n",
        "!rclone config - Enter an interactive configuration session.\n",
        "!rclone copy - Copy files from source to dest, skipping already copied.\n",
        "!rclone sync - Make source and dest identical, modifying destination only.\n",
        "!rclone move - Move files from source to dest.\n",
        "!rclone delete - Remove the contents of path.\n",
        "!rclone purge - Remove the path and all of its contents.\n",
        "!rclone mkdir - Make the path if it doesn't already exist.\n",
        "!rclone rmdir - Remove the path.\n",
        "!rclone rmdirs - Remove any empty directories under the path.\n",
        "!rclone check - Check if the files in the source and destination match.\n",
        "!rclone ls - List all the objects in the path with size and path.\n",
        "!rclone lsd - List all directories/containers/buckets in the path.\n",
        "!rclone lsl - List all the objects in the path with size, modification time and path.\n",
        "!rclone md5sum - Produce an md5sum file for all the objects in the path.\n",
        "!rclone sha1sum - Produce a sha1sum file for all the objects in the path.\n",
        "!rclone size - Return the total size and number of objects in remote:path.\n",
        "!rclone version - Show the version number.\n",
        "!rclone cleanup - Clean up the remote if possible.\n",
        "!rclone dedupe - Interactively find duplicate files and delete/rename them.\n",
        "!rclone authorize - Remote authorization.\n",
        "!rclone cat - Concatenate any files and send them to stdout.\n",
        "!rclone copyto - Copy files from source to dest, skipping already copied.\n",
        "!rclone genautocomplete - Output shell completion scripts for rclone.\n",
        "!rclone gendocs - Output markdown docs for rclone to the directory supplied.\n",
        "!rclone listremotes - List all the remotes in the config file.\n",
        "!rclone mount - Mount the remote as a mountpoint.\n",
        "!rclone moveto - Move file or directory from source to dest.\n",
        "!rclone obscure - Obscure password for use in the rclone.conf\n",
        "!rclone cryptcheck - Check the integrity of an encrypted remote.\n",
        "!rclone about - Get quota information from the remote.\n",
        "---\n",
        "```"
      ]
    },
    {
      "cell_type": "markdown",
      "metadata": {
        "id": "x6Dxey_8bGUJ"
      },
      "source": [
        "**Write your Code Below:**"
      ]
    },
    {
      "cell_type": "markdown",
      "metadata": {
        "id": "LF3tVGmLCGxL"
      },
      "source": [
        "**Code 1**"
      ]
    }
  ],
  "metadata": {
    "accelerator": "TPU",
    "colab": {
      "collapsed_sections": [],
      "include_colab_link": true,
      "name": "rclone-JSON-dl-PIXOR-03.ipynb",
      "provenance": []
    },
    "kernelspec": {
      "display_name": "Python 3",
      "name": "python3"
    },
    "language_info": {
      "name": "python"
    }
  },
  "nbformat": 4,
  "nbformat_minor": 0
}
